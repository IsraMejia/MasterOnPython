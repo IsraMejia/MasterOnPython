{
 "cells": [
  {
   "cell_type": "markdown",
   "metadata": {},
   "source": [
    "# Ejercicio mesas\n",
    "\n"
   ]
  },
  {
   "cell_type": "code",
   "execution_count": 8,
   "metadata": {},
   "outputs": [
    {
     "name": "stdout",
     "output_type": "stream",
     "text": [
      "tenemos n= 2 de pie\n",
      "tenemos n= 0  mesas vacias\n",
      "Se cumplen las condiciones\n"
     ]
    }
   ],
   "source": [
    "alumnos = 20\n",
    "mesas = 6\n",
    "\n",
    "compañeros_sin_mesa = alumnos % 3\n",
    "print(f'tenemos n= {compañeros_sin_mesa} de pie')\n",
    "\n",
    "mesa_vacia = alumnos % 4 \n",
    "print(f'tenemos n= {mesa_vacia}  mesas vacias')\n",
    "\n",
    "if ((compañeros_sin_mesa == 2) and (mesa_vacia == 0)):\n",
    "    print(\"Se cumplen las condiciones\")\n",
    "else:\n",
    "    print(\"Esta combinacion no es\")\n"
   ]
  }
 ],
 "metadata": {
  "kernelspec": {
   "display_name": "Python 3.10.7 64-bit",
   "language": "python",
   "name": "python3"
  },
  "language_info": {
   "codemirror_mode": {
    "name": "ipython",
    "version": 3
   },
   "file_extension": ".py",
   "mimetype": "text/x-python",
   "name": "python",
   "nbconvert_exporter": "python",
   "pygments_lexer": "ipython3",
   "version": "3.10.7"
  },
  "orig_nbformat": 4,
  "vscode": {
   "interpreter": {
    "hash": "aee8b7b246df8f9039afb4144a1f6fd8d2ca17a180786b69acc140d282b71a49"
   }
  }
 },
 "nbformat": 4,
 "nbformat_minor": 2
}
