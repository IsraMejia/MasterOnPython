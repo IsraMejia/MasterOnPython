{
 "cells": [
  {
   "cell_type": "markdown",
   "metadata": {},
   "source": [
    "# Ejercicio mesas\n",
    "\n"
   ]
  },
  {
   "cell_type": "code",
   "execution_count": 7,
   "metadata": {},
   "outputs": [
    {
     "name": "stdout",
     "output_type": "stream",
     "text": [
      "tenemos n= 2 de pie\n",
      "tenemos n= 2  mesas vacias\n",
      "Esta combinacion no es\n"
     ]
    }
   ],
   "source": [
    "alumnos = 20\n",
    "mesas = 6\n",
    "\n",
    "compañeros_sin_mesa = alumnos % 3\n",
    "print(f'tenemos n= {compañeros_sin_mesa} de pie')\n",
    "\n",
    "mesa_vacia = mesas % 4 \n",
    "print(f'tenemos n= {mesa_vacia}  mesas vacias')\n",
    "\n",
    "if ((compañeros_sin_mesa == 2) and (mesa_vacia == 1)):\n",
    "    print(\"Se cumple al menos una condicion\")\n",
    "else:\n",
    "    print(\"Esta combinacion no es\")\n"
   ]
  }
 ],
 "metadata": {
  "kernelspec": {
   "display_name": "Python 3",
   "language": "python",
   "name": "python3"
  },
  "language_info": {
   "codemirror_mode": {
    "name": "ipython",
    "version": 3
   },
   "file_extension": ".py",
   "mimetype": "text/x-python",
   "name": "python",
   "nbconvert_exporter": "python",
   "pygments_lexer": "ipython3",
   "version": "3.10.4 (tags/v3.10.4:9d38120, Mar 23 2022, 23:13:41) [MSC v.1929 64 bit (AMD64)]"
  },
  "orig_nbformat": 4,
  "vscode": {
   "interpreter": {
    "hash": "3352280b4ffd427f2a5be7ee59ac4189f82e1545388b246e2f04edabf7e2f6ab"
   }
  }
 },
 "nbformat": 4,
 "nbformat_minor": 2
}
