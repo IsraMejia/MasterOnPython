{
 "cells": [
  {
   "cell_type": "markdown",
   "metadata": {},
   "source": [
    "# APA's Formats in 🐍"
   ]
  },
  {
   "cell_type": "markdown",
   "metadata": {},
   "source": [
    "### WebSite"
   ]
  },
  {
   "cell_type": "code",
   "execution_count": 3,
   "metadata": {},
   "outputs": [
    {
     "name": "stdout",
     "output_type": "stream",
     "text": [
      "a , a. (a). a. a.\tSitio Web: a \n",
      ".\n"
     ]
    }
   ],
   "source": [
    "#from dataclasses import dataclass\n",
    "\n",
    "\n",
    "autorLastName = input(\"Ingresa el Apellido del autor: \")\n",
    "autorName = input(\"Ingresa el nombre del autor: \")\n",
    "datecheck = input(\"Ingresa la fecha de recuperacion: \")\n",
    "datecheck = \"(\"+datecheck+\")\"\n",
    "postTitle = input(\"Ingresa el titulo del articulo: \")\n",
    "institution = input(\"Ingresa el nombre de  la institucion relacionada al articulo: \") \n",
    "webpage = input(\"Ingresa el link de la pagina:\")\n",
    "\n",
    " \n",
    " \n",
    "print(f'{autorLastName} , {autorName}. {datecheck}. {postTitle}. {institution}.\\tSitio Web: {webpage} \\n.')"
   ]
  },
  {
   "attachments": {},
   "cell_type": "markdown",
   "metadata": {},
   "source": [
    "# Numeros Random en Python \n",
    "Me sirve para escoger de forma aleatoria el ejercicio que estudare"
   ]
  },
  {
   "cell_type": "code",
   "execution_count": 7,
   "metadata": {},
   "outputs": [
    {
     "name": "stdout",
     "output_type": "stream",
     "text": [
      "El ejercicio que ahora toca hacer es: 3 🤠\n"
     ]
    }
   ],
   "source": [
    "import random\n",
    "\n",
    "random_number = random.randint(1, 6)   #(1, 10)\n",
    "print(f'El ejercicio que ahora toca hacer es: {random_number} 🤠')"
   ]
  },
  {
   "cell_type": "markdown",
   "metadata": {},
   "source": [
    "## Procesa ChatGPT 🤖"
   ]
  },
  {
   "cell_type": "code",
   "execution_count": 8,
   "metadata": {},
   "outputs": [
    {
     "name": "stdout",
     "output_type": "stream",
     "text": [
      "Listo\n"
     ]
    }
   ],
   "source": [
    "import re\n",
    "text = \"\"\"\n",
    "\n",
    "El subsistema de Linux en Windows, también conocido como Windows Subsystem for Linux (WSL), es una característica de Windows 10 que permite a los usuarios ejecutar aplicaciones de Linux directamente en Windows sin necesidad de una máquina virtual o un arranque dual.\n",
    "\n",
    "WSL proporciona una capa de compatibilidad que permite que las aplicaciones de Linux se ejecuten en Windows sin cambios significativos en el código fuente. Esto se logra a través de la inclusión de un núcleo de Linux específico en Windows 10 que permite la ejecución de binarios de Linux.\n",
    "\n",
    "Hay dos versiones de WSL: WSL1 y WSL2. WSL1 utiliza una arquitectura de traducción dinámica que emula las llamadas del sistema Linux, mientras que WSL2 utiliza una máquina virtual liviana para proporcionar una experiencia más cercana a la de un sistema Linux completo.\n",
    "\n",
    "WSL ofrece varias ventajas para los desarrolladores y usuarios de Linux que utilizan Windows. Permite ejecutar aplicaciones de Linux y herramientas de línea de comandos nativas de Linux en Windows, lo que ahorra tiempo y evita la necesidad de utilizar una máquina virtual o un arranque dual. También permite la integración de herramientas de desarrollo de Linux con herramientas de Windows, lo que facilita el trabajo en proyectos de código abierto y la colaboración entre desarrolladores.\n",
    "\n",
    "En resumen, el subsistema de Linux en Windows es una característica útil para los usuarios de Windows que necesitan utilizar herramientas y aplicaciones de Linux, ya que les permite ejecutarlos directamente en su sistema operativo sin necesidad de instalar un sistema operativo Linux completo en una máquina virtual o realizar un arranque dual.\n",
    "\n",
    "Referencias:\n",
    "\n",
    "\"What is WSL 2?\" de Microsoft Docs: https://docs.microsoft.com/en-us/windows/wsl/about\n",
    "\"Introduction to the Windows Subsystem for Linux\" de How-To Geek: https://www.howtogeek.com/249966/how-to-install-and-use-the-linux-bash-shell-on-windows-10/\n",
    "\n",
    "\n",
    "\"\"\"\n",
    "\n",
    "texto_sin_acentos = re.sub(r'[^\\w\\s]', '', re.sub(r'[áäàâ]', 'a', re.sub(r'[éëèê]', 'e', re.sub(r'[íïìî]', 'i', re.sub(r'[óöòô]', 'o', re.sub(r'[úüùû]', 'u', text)))))).lower()\n",
    "\n",
    "archivo = open(\"TextoChatGPT.txt\", \"w\")\n",
    "archivo.write(texto_sin_acentos)\n",
    "archivo.close()\n",
    "\n",
    "print(\"Listo\")\n",
    "\n",
    "\n",
    "\n",
    "\n",
    "\n"
   ]
  }
 ],
 "metadata": {
  "kernelspec": {
   "display_name": "Python 3.10.7 64-bit",
   "language": "python",
   "name": "python3"
  },
  "language_info": {
   "codemirror_mode": {
    "name": "ipython",
    "version": 3
   },
   "file_extension": ".py",
   "mimetype": "text/x-python",
   "name": "python",
   "nbconvert_exporter": "python",
   "pygments_lexer": "ipython3",
   "version": "3.10.7"
  },
  "orig_nbformat": 4,
  "vscode": {
   "interpreter": {
    "hash": "aee8b7b246df8f9039afb4144a1f6fd8d2ca17a180786b69acc140d282b71a49"
   }
  }
 },
 "nbformat": 4,
 "nbformat_minor": 2
}
