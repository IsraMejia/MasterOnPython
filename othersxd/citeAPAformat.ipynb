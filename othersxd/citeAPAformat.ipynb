{
 "cells": [
  {
   "cell_type": "markdown",
   "metadata": {},
   "source": [
    "# APA's Formats in 🐍"
   ]
  },
  {
   "cell_type": "markdown",
   "metadata": {},
   "source": [
    "### WebSite"
   ]
  },
  {
   "cell_type": "code",
   "execution_count": 5,
   "metadata": {},
   "outputs": [
    {
     "name": "stdout",
     "output_type": "stream",
     "text": [
      "Mora , Armando. (08-12-22). GUÍA BÁSICA DEL VHDL .\tSitio Web: http://www.itq.edu.mx/carreras/IngElectronica/archivos_contenido/Apuntes%20de%20materias/Apuntes_VHDL_2016.pdf \n"
     ]
    }
   ],
   "source": [
    "from dataclasses import dataclass\n",
    "\n",
    "\n",
    "autorLastName = input(\"Ingresa el Apellido del autor: \")\n",
    "autorName = input(\"Ingresa el nombre del autor: \")\n",
    "datecheck = input(\"Ingresa la fecha de recuperacion: \")\n",
    "datecheck = \"(\"+datecheck+\")\"\n",
    "postTitle = input(\"Ingresa el titulo del articulo: \")\n",
    "institution = input(\"Ingresa el nombre de  la institucion relacionada al articulo: \") \n",
    "webpage = input(\"Ingresa el link de la pagina:\")\n",
    "\n",
    "\n",
    " \n",
    "print(f'{autorLastName} , {autorName}. {datecheck}. {postTitle}.\\tSitio Web: {webpage} ')"
   ]
  },
  {
   "attachments": {},
   "cell_type": "markdown",
   "metadata": {},
   "source": [
    "# Numeros Random en Python \n",
    "Me sirve para escoger de forma aleatoria el ejercicio que estudare"
   ]
  },
  {
   "cell_type": "code",
   "execution_count": 6,
   "metadata": {},
   "outputs": [
    {
     "name": "stdout",
     "output_type": "stream",
     "text": [
      "El ejercicio que ahora toca hacer es: 5 🤠\n"
     ]
    }
   ],
   "source": [
    "import random\n",
    "\n",
    "random_number = random.randint(1, 6)   #(1, 10)\n",
    "print(f'El ejercicio que ahora toca hacer es: {random_number} 🤠')"
   ]
  },
  {
   "cell_type": "markdown",
   "metadata": {},
   "source": [
    "## Procesa ChatGPT 🤖"
   ]
  },
  {
   "cell_type": "code",
   "execution_count": 2,
   "metadata": {},
   "outputs": [
    {
     "name": "stdout",
     "output_type": "stream",
     "text": [
      "\n",
      "Un kernel y un sistema operativo son dos conceptos relacionados pero distintos en la informática. El kernel es una parte fundamental del sistema operativo, encargado de gestionar los recursos del hardware, mientras que el sistema operativo es un conjunto de programas que permiten al usuario interactuar con la computadora.\n",
      "\n",
      "El kernel es el núcleo del sistema operativo y se encarga de la gestión de los recursos del hardware, como la memoria, la CPU, los dispositivos de entrada/salida, entre otros. Es el primer programa que se ejecuta al arrancar el sistema operativo y es responsable de asignar los recursos a los diferentes programas que se ejecutan en la computadora. Además, el kernel también se encarga de la gestión de los procesos y la seguridad del sistema.\n",
      "\n",
      "Por otro lado, el sistema operativo es un conjunto de programas que permiten al usuario interactuar con la computadora. El sistema operativo proporciona una interfaz gráfica para el usuario y una serie de herramientas y utilidades para la gestión de archivos, programas, dispositivos y redes. Algunos ejemplos de sistemas operativos populares incluyen Windows, Linux, macOS, Android, iOS, entre otros.\n",
      "\n",
      "En resumen, el kernel es una parte fundamental del sistema operativo, mientras que el sistema operativo es un conjunto de programas que permiten al usuario interactuar con la computadora. El kernel se encarga de la gestión de los recursos del hardware, mientras que el sistema operativo proporciona una interfaz para el usuario y herramientas para la gestión de archivos y programas.\n",
      "\n",
      "Referencias:\n",
      "\n",
      "Tanenbaum, A. S., & Bos, H. (2015). Modern Operating Systems (4th ed.). Prentice Hall.\n",
      "Silberschatz, A., Galvin, P. B., & Gagne, G. (2018). Operating System Concepts (10th ed.). Wiley.\n",
      "\n",
      "\n",
      "\n"
     ]
    }
   ],
   "source": [
    "text = \"\"\"\n",
    "\n",
    "Windows 10 - desarrollado por Microsoft: https://www.microsoft.com/en-us/windows\n",
    "\n",
    "macOS Big Sur - desarrollado por Apple: https://www.apple.com/macos/big-sur/\n",
    "\n",
    "Ubuntu - una distribución de Linux desarrollada por Canonical: https://ubuntu.com/\n",
    "\n",
    "Android - un sistema operativo móvil desarrollado por Google: https://www.android.com/\n",
    "\n",
    "iOS - un sistema operativo móvil desarrollado por Apple: https://www.apple.com/ios/\n",
    "\n",
    "Chrome OS - un sistema operativo desarrollado por Google para dispositivos Chromebook: https://www.google.com/chromebook/chrome-os/\n",
    "\n",
    "Fedora - una distribución de Linux desarrollada por la comunidad: https://getfedora.org/\n",
    "\n",
    "CentOS - una distribución de Linux derivada de Red Hat Enterprise Linux: https://www.centos.org/\n",
    "\n",
    "FreeBSD - un sistema operativo de código abierto derivado de Unix: https://www.freebsd.org/\n",
    "\n",
    "OpenBSD - un sistema operativo de código abierto centrado en la seguridad: https://www.openbsd.org/\n",
    "\n",
    "\"\"\"\n",
    "\n",
    "archivo = open(\"TextoChatGPT.txt\", \"w\")\n",
    "archivo.write(text)\n",
    "archivo.close()\n",
    "\n",
    "print(text)\n"
   ]
  }
 ],
 "metadata": {
  "kernelspec": {
   "display_name": "Python 3.10.7 64-bit",
   "language": "python",
   "name": "python3"
  },
  "language_info": {
   "codemirror_mode": {
    "name": "ipython",
    "version": 3
   },
   "file_extension": ".py",
   "mimetype": "text/x-python",
   "name": "python",
   "nbconvert_exporter": "python",
   "pygments_lexer": "ipython3",
   "version": "3.10.7"
  },
  "orig_nbformat": 4,
  "vscode": {
   "interpreter": {
    "hash": "aee8b7b246df8f9039afb4144a1f6fd8d2ca17a180786b69acc140d282b71a49"
   }
  }
 },
 "nbformat": 4,
 "nbformat_minor": 2
}
