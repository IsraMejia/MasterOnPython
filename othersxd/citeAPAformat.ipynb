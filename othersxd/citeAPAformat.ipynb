{
 "cells": [
  {
   "cell_type": "markdown",
   "metadata": {},
   "source": [
    "# APA's Formats in 🐍"
   ]
  },
  {
   "cell_type": "markdown",
   "metadata": {},
   "source": [
    "### WebSite"
   ]
  },
  {
   "cell_type": "code",
   "execution_count": 7,
   "metadata": {},
   "outputs": [
    {
     "name": "stdout",
     "output_type": "stream",
     "text": [
      "Apa:\n",
      "- , -. (25-10-22). Universidad Nacional de La Plata.\tSitio Web: https://yold.unlp.edu.ar/frontend/media/86/27586/9f6fb6121050cf6e1acd93f79c73eb6d.pdf \n"
     ]
    }
   ],
   "source": [
    "from dataclasses import dataclass\n",
    "\n",
    "\n",
    "autorLastName = input(\"Ingresa el Apellido del autor: \")\n",
    "autorName = input(\"Ingresa el nombre del autor: \")\n",
    "datecheck = input(\"Ingresa la fecha de recuperacion: \")\n",
    "datecheck = \"(\"+datecheck+\")\"\n",
    "postTitle = input(\"Ingresa el titulo del articulo: \")\n",
    "institution = input(\"Ingresa el nombre de  la institucion relacionada al articulo: \") \n",
    "webpage = input(\"Ingresa el link de la pagina:\")\n",
    "\n",
    "\n",
    " \n",
    "print(f'Apa:\\n{autorLastName} , {autorName}. {datecheck}. {postTitle}.\\tSitio Web: {webpage} ')"
   ]
  }
 ],
 "metadata": {
  "kernelspec": {
   "display_name": "Python 3.10.4 64-bit",
   "language": "python",
   "name": "python3"
  },
  "language_info": {
   "codemirror_mode": {
    "name": "ipython",
    "version": 3
   },
   "file_extension": ".py",
   "mimetype": "text/x-python",
   "name": "python",
   "nbconvert_exporter": "python",
   "pygments_lexer": "ipython3",
   "version": "3.10.4"
  },
  "orig_nbformat": 4,
  "vscode": {
   "interpreter": {
    "hash": "3352280b4ffd427f2a5be7ee59ac4189f82e1545388b246e2f04edabf7e2f6ab"
   }
  }
 },
 "nbformat": 4,
 "nbformat_minor": 2
}
