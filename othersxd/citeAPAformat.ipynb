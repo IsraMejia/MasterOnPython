{
 "cells": [
  {
   "cell_type": "markdown",
   "metadata": {},
   "source": [
    "# APA's Formats in 🐍"
   ]
  },
  {
   "cell_type": "markdown",
   "metadata": {},
   "source": [
    "### WebSite"
   ]
  },
  {
   "cell_type": "code",
   "execution_count": 5,
   "metadata": {},
   "outputs": [
    {
     "name": "stdout",
     "output_type": "stream",
     "text": [
      "Mora , Armando. (08-12-22). GUÍA BÁSICA DEL VHDL .\tSitio Web: http://www.itq.edu.mx/carreras/IngElectronica/archivos_contenido/Apuntes%20de%20materias/Apuntes_VHDL_2016.pdf \n"
     ]
    }
   ],
   "source": [
    "from dataclasses import dataclass\n",
    "\n",
    "\n",
    "autorLastName = input(\"Ingresa el Apellido del autor: \")\n",
    "autorName = input(\"Ingresa el nombre del autor: \")\n",
    "datecheck = input(\"Ingresa la fecha de recuperacion: \")\n",
    "datecheck = \"(\"+datecheck+\")\"\n",
    "postTitle = input(\"Ingresa el titulo del articulo: \")\n",
    "institution = input(\"Ingresa el nombre de  la institucion relacionada al articulo: \") \n",
    "webpage = input(\"Ingresa el link de la pagina:\")\n",
    "\n",
    "\n",
    " \n",
    "print(f'{autorLastName} , {autorName}. {datecheck}. {postTitle}.\\tSitio Web: {webpage} ')"
   ]
  },
  {
   "attachments": {},
   "cell_type": "markdown",
   "metadata": {},
   "source": [
    "# Numeros Random en Python \n",
    "Me sirve para escoger de forma aleatoria el ejercicio que estudare"
   ]
  },
  {
   "cell_type": "code",
   "execution_count": 6,
   "metadata": {},
   "outputs": [
    {
     "name": "stdout",
     "output_type": "stream",
     "text": [
      "El ejercicio que ahora toca hacer es: 5 🤠\n"
     ]
    }
   ],
   "source": [
    "import random\n",
    "\n",
    "random_number = random.randint(1, 6)   #(1, 10)\n",
    "print(f'El ejercicio que ahora toca hacer es: {random_number} 🤠')"
   ]
  }
 ],
 "metadata": {
  "kernelspec": {
   "display_name": "Python 3.10.4 64-bit",
   "language": "python",
   "name": "python3"
  },
  "language_info": {
   "codemirror_mode": {
    "name": "ipython",
    "version": 3
   },
   "file_extension": ".py",
   "mimetype": "text/x-python",
   "name": "python",
   "nbconvert_exporter": "python",
   "pygments_lexer": "ipython3",
   "version": "3.10.4 (tags/v3.10.4:9d38120, Mar 23 2022, 23:13:41) [MSC v.1929 64 bit (AMD64)]"
  },
  "orig_nbformat": 4,
  "vscode": {
   "interpreter": {
    "hash": "3352280b4ffd427f2a5be7ee59ac4189f82e1545388b246e2f04edabf7e2f6ab"
   }
  }
 },
 "nbformat": 4,
 "nbformat_minor": 2
}
